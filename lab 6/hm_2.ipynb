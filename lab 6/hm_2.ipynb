{
 "cells": [
  {
   "cell_type": "code",
   "execution_count": 10,
   "metadata": {},
   "outputs": [],
   "source": [
    "import os\n",
    "import cv2\n",
    "import shutil\n",
    "video = '../video.mp4'\n",
    "num_frames = 30"
   ]
  },
  {
   "cell_type": "code",
   "execution_count": 7,
   "metadata": {},
   "outputs": [],
   "source": [
    "os.makedirs('frames', exist_ok=True)"
   ]
  },
  {
   "cell_type": "code",
   "execution_count": 12,
   "metadata": {},
   "outputs": [
    {
     "name": "stdout",
     "output_type": "stream",
     "text": [
      "Select a ROI and then press SPACE or ENTER button!\n",
      "Cancel the selection process by pressing c button!\n"
     ]
    }
   ],
   "source": [
    "cap = cv2.VideoCapture(video)\n",
    "\n",
    "ret, frame = cap.read()\n",
    "\n",
    "bbox = cv2.selectROI('Select Object', frame, False)\n",
    "cv2.destroyWindow('Select Object')\n",
    "\n",
    "tracker_kcf = cv2.TrackerKCF_create()\n",
    "tracker_kcf.init(frame, bbox)\n",
    "\n",
    "tracker_csrt = cv2.TrackerCSRT_create()\n",
    "tracker_csrt.init(frame, bbox)\n",
    "\n",
    "for i in range(num_frames):\n",
    "    ret, frame = cap.read()\n",
    "\n",
    "    success_kcf, bbox_kcf = tracker_kcf.update(frame)\n",
    "    if success_kcf:\n",
    "        x, y, w, h = map(int, bbox_kcf)\n",
    "        cv2.rectangle(frame, (x, y), (x + w, y + h), (255, 0, 0), 2)\n",
    "        cv2.putText(frame, 'KCF', (x, y - 10), cv2.FONT_HERSHEY_SIMPLEX, 0.6, (255, 0, 0), 2)\n",
    "\n",
    "    success_csrt, bbox_csrt = tracker_csrt.update(frame)\n",
    "    if success_csrt:\n",
    "        x, y, w, h = map(int, bbox_csrt)\n",
    "        cv2.rectangle(frame, (x, y), (x + w, y + h), (0, 255, 0), 2)\n",
    "        cv2.putText(frame, 'CSRT', (x, y - 30), cv2.FONT_HERSHEY_SIMPLEX, 0.6, (0, 255, 0), 2)\n",
    "\n",
    "    cv2.imshow('Tracking', frame)\n",
    "    #cv2.imwrite(f'frames/frame_{i}.jpg', frame)\n",
    "\n",
    "    if cv2.waitKey(50) & 0xFF == ord('q'):\n",
    "        break\n",
    "\n",
    "cap.release()\n",
    "cv2.destroyAllWindows()"
   ]
  },
  {
   "cell_type": "code",
   "execution_count": 11,
   "metadata": {},
   "outputs": [],
   "source": [
    "shutil.rmtree('frames')"
   ]
  }
 ],
 "metadata": {
  "kernelspec": {
   "display_name": "Python 3",
   "language": "python",
   "name": "python3"
  },
  "language_info": {
   "codemirror_mode": {
    "name": "ipython",
    "version": 3
   },
   "file_extension": ".py",
   "mimetype": "text/x-python",
   "name": "python",
   "nbconvert_exporter": "python",
   "pygments_lexer": "ipython3",
   "version": "3.12.6"
  }
 },
 "nbformat": 4,
 "nbformat_minor": 2
}
